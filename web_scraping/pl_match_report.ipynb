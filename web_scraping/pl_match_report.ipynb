{
 "cells": [
  {
   "cell_type": "code",
   "execution_count": 24,
   "id": "835a8bd1-9ea4-4d8e-bf51-371c562fdfd6",
   "metadata": {},
   "outputs": [],
   "source": [
    "from selenium import webdriver\n",
    "from selenium.webdriver.common.by import By\n",
    "from selenium.webdriver.common.keys import Keys\n",
    "from selenium.webdriver.chrome.service import Service\n",
    "from selenium.webdriver.common.action_chains import ActionChains\n",
    "from selenium.webdriver.support.ui import WebDriverWait\n",
    "import time\n",
    "from bs4 import BeautifulSoup\n",
    "import requests"
   ]
  },
  {
   "cell_type": "code",
   "execution_count": 25,
   "id": "8b236177-e0ee-45b2-aaf3-cf29a2f54cb0",
   "metadata": {},
   "outputs": [],
   "source": [
    "options = webdriver.ChromeOptions()\n",
    "options.set_capability('goog:loggingPrefs', {\"performance\": \"ALL\", \"browser\": \"ALL\"})\n",
    "# Adding user agent to look more like a real browser\n",
    "options.add_argument(\"user-agent=Mozilla/5.0 (Macintosh; Intel Mac OS X 10_15_7) AppleWebKit/537.36 (KHTML, like Gecko) Chrome/134.0.0.0 Safari/537.36\")\n",
    "\n",
    "driver = webdriver.Chrome(options=options)\n",
    "wait = WebDriverWait (driver,10)\n",
    "driver.set_page_load_timeout(50)\n",
    "driver.set_window_size(800, 600)"
   ]
  },
  {
   "cell_type": "code",
   "execution_count": 9,
   "id": "fed7a335-f3f5-45e3-a047-bf227405400e",
   "metadata": {},
   "outputs": [],
   "source": [
    "url = \"https://www.premierleague.com/match/115870\""
   ]
  },
  {
   "cell_type": "code",
   "execution_count": 21,
   "id": "22602612-130f-42e2-a033-ec7a9e3e10f0",
   "metadata": {
    "scrolled": true
   },
   "outputs": [],
   "source": [
    "def get_report(url):\n",
    "    driver.get(url)\n",
    "    \n",
    "    # Interact with the page to trigger API calls\n",
    "    driver.execute_script(\"window.scrollTo(0, document.body.scrollHeight/2);\")\n",
    "    time.sleep(2)\n",
    "    \n",
    "    soup = BeautifulSoup (driver.page_source, \"html.parser\")\n",
    "    team_names = soup.find_all('span',class_=\"mc-summary__team-name u-hide-phablet\")\n",
    "    name = team_names[0].get_text() + '_vs_' + team_names[1].get_text()\n",
    "    report = ''\n",
    "    for p in soup.find('article',class_ = \"mc-match-report__article-body article__body\"):\n",
    "        report += p.get_text()\n",
    "    return report,name"
   ]
  },
  {
   "cell_type": "code",
   "execution_count": 19,
   "id": "fbfaa1ca-9cf2-4ddb-b49a-d2d8371ea308",
   "metadata": {},
   "outputs": [],
   "source": [
    "match_report = {}"
   ]
  },
  {
   "cell_type": "code",
   "execution_count": 26,
   "id": "80d87dd1-cfe0-44b7-8c04-a652a4fec1e1",
   "metadata": {
    "scrolled": true
   },
   "outputs": [
    {
     "name": "stdout",
     "output_type": "stream",
     "text": [
      "...\n",
      "\n",
      "...\n",
      "\n",
      "...\n",
      "\n",
      "...\n",
      "\n",
      "...\n",
      "\n"
     ]
    }
   ],
   "source": [
    "file = open ('match_id.csv','r')\n",
    "\n",
    "count = 0\n",
    "for f in file:\n",
    "    new_id = f.strip()\n",
    "    report = ''\n",
    "    if new_id not in match_report:\n",
    "        try:\n",
    "            report,name = get_report(f\"https://www.premierleague.com/match/{new_id}\")\n",
    "            match_report[name] = report\n",
    "        except:\n",
    "            time.sleep(0.1)\n",
    "            print ('...\\n')\n",
    "   \n"
   ]
  },
  {
   "cell_type": "code",
   "execution_count": 27,
   "id": "1eeb14f8-0050-4b3c-916a-f6a5d142c16c",
   "metadata": {
    "scrolled": true
   },
   "outputs": [
    {
     "name": "stdout",
     "output_type": "stream",
     "text": [
      "332\n"
     ]
    }
   ],
   "source": [
    "#print (get_report(url))\n",
    "print (len(match_report))"
   ]
  },
  {
   "cell_type": "code",
   "execution_count": 7,
   "id": "b06564fd-976f-4260-8e1c-4ea13d56c909",
   "metadata": {},
   "outputs": [
    {
     "name": "stdout",
     "output_type": "stream",
     "text": [
      "4666\n"
     ]
    }
   ],
   "source": [
    "print (len(match_report['116158']))"
   ]
  },
  {
   "cell_type": "code",
   "execution_count": 28,
   "id": "99a3abfb-6507-4348-9b49-34ffa7f1bb33",
   "metadata": {},
   "outputs": [],
   "source": [
    "for i in list(match_report.keys()):\n",
    "    f = open(f'reports2/{i}.txt','w')\n",
    "    f.write(match_report[i])\n",
    "    f.close()"
   ]
  },
  {
   "cell_type": "code",
   "execution_count": null,
   "id": "a0ad0dea-2808-43de-80f0-e0aac53eef29",
   "metadata": {},
   "outputs": [],
   "source": []
  }
 ],
 "metadata": {
  "kernelspec": {
   "display_name": "Python 3 (ipykernel)",
   "language": "python",
   "name": "python3"
  },
  "language_info": {
   "codemirror_mode": {
    "name": "ipython",
    "version": 3
   },
   "file_extension": ".py",
   "mimetype": "text/x-python",
   "name": "python",
   "nbconvert_exporter": "python",
   "pygments_lexer": "ipython3",
   "version": "3.9.21"
  }
 },
 "nbformat": 4,
 "nbformat_minor": 5
}
